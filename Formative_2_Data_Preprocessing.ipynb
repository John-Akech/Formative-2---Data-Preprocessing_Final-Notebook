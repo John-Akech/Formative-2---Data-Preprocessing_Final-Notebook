{
  "nbformat": 4,
  "nbformat_minor": 0,
  "metadata": {
    "colab": {
      "provenance": [],
      "authorship_tag": "ABX9TyNa0nFNnwgSMdfGxdsuY/+N",
      "include_colab_link": true
    },
    "kernelspec": {
      "name": "python3",
      "display_name": "Python 3"
    },
    "language_info": {
      "name": "python"
    }
  },
  "cells": [
    {
      "cell_type": "markdown",
      "metadata": {
        "id": "view-in-github",
        "colab_type": "text"
      },
      "source": [
        "<a href=\"https://colab.research.google.com/github/John-Akech/Formative-2---Data-Preprocessing_Final-Notebook/blob/master/Formative_2_Data_Preprocessing.ipynb\" target=\"_parent\"><img src=\"https://colab.research.google.com/assets/colab-badge.svg\" alt=\"Open In Colab\"/></a>"
      ]
    },
    {
      "cell_type": "markdown",
      "source": [
        "# Part 1: Data Augmentation on CSV Files\n",
        "\n",
        "Objective: Expand an existing dataset using synthetic data, perturbation, and augmentation techniques."
      ],
      "metadata": {
        "id": "HfI7oGr5TfuM"
      }
    },
    {
      "cell_type": "markdown",
      "source": [
        "# Data Cleaning & Handling Missing Values"
      ],
      "metadata": {
        "id": "HetAq58MSD2g"
      }
    },
    {
      "cell_type": "code",
      "source": [
        "# Import the necessary libraries\n",
        "import pandas as pd\n",
        "import numpy as np\n",
        "from sklearn.impute import SimpleImputer\n",
        "from sklearn.linear_model import LinearRegression\n",
        "from sklearn.preprocessing import OneHotEncoder, KBinsDiscretizer\n",
        "from imblearn.over_sampling import SMOTE\n",
        "import uuid\n",
        "import datetime"
      ],
      "metadata": {
        "id": "dnFv0UAhTeYx"
      },
      "execution_count": 42,
      "outputs": []
    },
    {
      "cell_type": "code",
      "source": [
        "# Load the Dataset\n",
        "try:\n",
        "    # Load the dataset\n",
        "    df = pd.read_csv('/content/customer_transactions.csv')\n",
        "except FileNotFoundError:\n",
        "    print(\"Error: The file 'customer_transactions.csv' was not found.\")\n",
        "    exit()"
      ],
      "metadata": {
        "id": "bdoZcsNQTuEG"
      },
      "execution_count": 43,
      "outputs": []
    },
    {
      "cell_type": "code",
      "source": [
        "# Display basic information\n",
        "print(\"\\nDataset Overview:\")\n",
        "print(df.info())"
      ],
      "metadata": {
        "colab": {
          "base_uri": "https://localhost:8080/"
        },
        "id": "CsheHTRUTuCT",
        "outputId": "3a7eca8e-bca3-4ced-a0c2-c453b2792ea7"
      },
      "execution_count": 45,
      "outputs": [
        {
          "output_type": "stream",
          "name": "stdout",
          "text": [
            "\n",
            "Dataset Overview:\n",
            "<class 'pandas.core.frame.DataFrame'>\n",
            "RangeIndex: 150 entries, 0 to 149\n",
            "Data columns (total 6 columns):\n",
            " #   Column              Non-Null Count  Dtype  \n",
            "---  ------              --------------  -----  \n",
            " 0   customer_id_legacy  150 non-null    int64  \n",
            " 1   transaction_id      150 non-null    int64  \n",
            " 2   purchase_amount     150 non-null    int64  \n",
            " 3   purchase_date       150 non-null    object \n",
            " 4   product_category    150 non-null    object \n",
            " 5   customer_rating     140 non-null    float64\n",
            "dtypes: float64(1), int64(3), object(2)\n",
            "memory usage: 7.2+ KB\n",
            "None\n"
          ]
        }
      ]
    },
    {
      "cell_type": "code",
      "source": [
        "# Display first few rows\n",
        "print(\"\\nFirst 5 Rows:\")\n",
        "print(df.head())"
      ],
      "metadata": {
        "colab": {
          "base_uri": "https://localhost:8080/"
        },
        "id": "k_-Yzm81TuAJ",
        "outputId": "cefc1de9-43a6-4761-ba78-96972fd5c60c"
      },
      "execution_count": 46,
      "outputs": [
        {
          "output_type": "stream",
          "name": "stdout",
          "text": [
            "\n",
            "First 5 Rows:\n",
            "   customer_id_legacy  transaction_id  purchase_amount purchase_date  \\\n",
            "0                 151            1001              408    2024-01-01   \n",
            "1                 192            1002              332    2024-01-02   \n",
            "2                 114            1003              442    2024-01-03   \n",
            "3                 171            1004              256    2024-01-04   \n",
            "4                 160            1005               64    2024-01-05   \n",
            "\n",
            "  product_category  customer_rating  \n",
            "0           Sports              2.3  \n",
            "1      Electronics              4.2  \n",
            "2      Electronics              2.1  \n",
            "3         Clothing              2.8  \n",
            "4         Clothing              1.3  \n"
          ]
        }
      ]
    },
    {
      "cell_type": "code",
      "source": [
        "# Ensure Correct Data Types\n",
        "numerical_cols = ['purchase_amount', 'customer_rating']\n",
        "categorical_cols = ['product_category']"
      ],
      "metadata": {
        "id": "NXhReYM4Tt73"
      },
      "execution_count": 47,
      "outputs": []
    },
    {
      "cell_type": "code",
      "source": [
        "# Convert purchase_date to datetime\n",
        "df['purchase_date'] = pd.to_datetime(df['purchase_date'], errors='coerce')"
      ],
      "metadata": {
        "id": "aN49c1vxTt5u"
      },
      "execution_count": 48,
      "outputs": []
    },
    {
      "cell_type": "code",
      "source": [
        "# Extract year, month, and day from purchase_date\n",
        "df['year'] = df['purchase_date'].dt.year\n",
        "df['month'] = df['purchase_date'].dt.month\n",
        "df['day'] = df['purchase_date'].dt.day"
      ],
      "metadata": {
        "id": "U8Xp2tw7Tt3L"
      },
      "execution_count": 49,
      "outputs": []
    },
    {
      "cell_type": "code",
      "source": [
        "# Drop the original purchase_date column\n",
        "df.drop(columns=['purchase_date'], inplace=True)"
      ],
      "metadata": {
        "id": "PWbNbSDOTt0_"
      },
      "execution_count": 50,
      "outputs": []
    },
    {
      "cell_type": "code",
      "source": [
        "# Ensure numerical columns are numeric\n",
        "for col in numerical_cols:\n",
        "    df[col] = pd.to_numeric(df[col], errors='coerce')# Ensure categorical columns are category type\n",
        "for col in categorical_cols:\n",
        "    df[col] = df[col].astype('category')"
      ],
      "metadata": {
        "id": "7fQuIqrTTtzb"
      },
      "execution_count": 51,
      "outputs": []
    },
    {
      "cell_type": "code",
      "source": [
        "# Verify updated data types\n",
        "print(\"\\nUpdated Data Types:\")\n",
        "print(df.dtypes)"
      ],
      "metadata": {
        "colab": {
          "base_uri": "https://localhost:8080/"
        },
        "id": "6I_9sG7hTtyD",
        "outputId": "9e6c8e93-514b-4f46-e981-9e406c6315ad"
      },
      "execution_count": 52,
      "outputs": [
        {
          "output_type": "stream",
          "name": "stdout",
          "text": [
            "\n",
            "Updated Data Types:\n",
            "customer_id_legacy       int64\n",
            "transaction_id           int64\n",
            "purchase_amount          int64\n",
            "product_category      category\n",
            "customer_rating        float64\n",
            "year                     int32\n",
            "month                    int32\n",
            "day                      int32\n",
            "dtype: object\n"
          ]
        }
      ]
    },
    {
      "cell_type": "code",
      "source": [
        "# Handle Missing Values\n",
        "# Check for missing values\n",
        "print(\"\\nMissing Values Summary:\")\n",
        "print(df.isnull().sum())"
      ],
      "metadata": {
        "colab": {
          "base_uri": "https://localhost:8080/"
        },
        "id": "4uXeCgKgTtuW",
        "outputId": "7d7c19f6-317b-4c6e-e463-322fcff9b375"
      },
      "execution_count": 53,
      "outputs": [
        {
          "output_type": "stream",
          "name": "stdout",
          "text": [
            "\n",
            "Missing Values Summary:\n",
            "customer_id_legacy     0\n",
            "transaction_id         0\n",
            "purchase_amount        0\n",
            "product_category       0\n",
            "customer_rating       10\n",
            "year                   0\n",
            "month                  0\n",
            "day                    0\n",
            "dtype: int64\n"
          ]
        }
      ]
    },
    {
      "cell_type": "code",
      "source": [
        "# Impute numerical columns using median\n",
        "imputer = SimpleImputer(strategy='median')\n",
        "df[numerical_cols + ['year', 'month', 'day']] = imputer.fit_transform(df[numerical_cols + ['year', 'month', 'day']])"
      ],
      "metadata": {
        "id": "pxctmZAbTtr_"
      },
      "execution_count": 54,
      "outputs": []
    },
    {
      "cell_type": "code",
      "source": [
        "# Impute categorical columns using mode\n",
        "for col in categorical_cols:\n",
        "    mode_value = df[col].mode()[0]\n",
        "    df[col].fillna(mode_value, inplace=True)\n",
        "    print(f\"\\nFilled missing values in {col} with mode: {mode_value}\")"
      ],
      "metadata": {
        "colab": {
          "base_uri": "https://localhost:8080/"
        },
        "id": "xGwY_Q4cUJV0",
        "outputId": "55055ca7-ecea-41f7-eb5c-ab89cf04e1b7"
      },
      "execution_count": 55,
      "outputs": [
        {
          "output_type": "stream",
          "name": "stdout",
          "text": [
            "\n",
            "Filled missing values in product_category with mode: Sports\n"
          ]
        },
        {
          "output_type": "stream",
          "name": "stderr",
          "text": [
            "<ipython-input-55-b5588db212dd>:4: FutureWarning: A value is trying to be set on a copy of a DataFrame or Series through chained assignment using an inplace method.\n",
            "The behavior will change in pandas 3.0. This inplace method will never work because the intermediate object on which we are setting values always behaves as a copy.\n",
            "\n",
            "For example, when doing 'df[col].method(value, inplace=True)', try using 'df.method({col: value}, inplace=True)' or df[col] = df[col].method(value) instead, to perform the operation inplace on the original object.\n",
            "\n",
            "\n",
            "  df[col].fillna(mode_value, inplace=True)\n"
          ]
        }
      ]
    },
    {
      "cell_type": "code",
      "source": [
        "# Predictive modeling for remaining missing values in customer_rating\n",
        "if df['customer_rating'].isnull().any():\n",
        "    X_train = df[df['customer_rating'].notnull()][['purchase_amount']]\n",
        "    y_train = df[df['customer_rating'].notnull()]['customer_rating']\n",
        "    X_missing = df[df['customer_rating'].isnull()][['purchase_amount']]\n",
        "\n",
        "    regressor = LinearRegression()\n",
        "    regressor.fit(X_train, y_train)\n",
        "    df.loc[df['customer_rating'].isnull(), 'customer_rating'] = regressor.predict(X_missing)"
      ],
      "metadata": {
        "id": "FHppzAEsUJTi"
      },
      "execution_count": 56,
      "outputs": []
    },
    {
      "cell_type": "code",
      "source": [
        "# Verify missing values are handled\n",
        "print(\"\\nMissing Values After Imputation:\")\n",
        "print(df.isnull().sum())"
      ],
      "metadata": {
        "colab": {
          "base_uri": "https://localhost:8080/"
        },
        "id": "KZScoW9TUJRq",
        "outputId": "f1e5f34e-0f49-4e0f-94ef-4dc0cff7e37e"
      },
      "execution_count": 57,
      "outputs": [
        {
          "output_type": "stream",
          "name": "stdout",
          "text": [
            "\n",
            "Missing Values After Imputation:\n",
            "customer_id_legacy    0\n",
            "transaction_id        0\n",
            "purchase_amount       0\n",
            "product_category      0\n",
            "customer_rating       0\n",
            "year                  0\n",
            "month                 0\n",
            "day                   0\n",
            "dtype: int64\n"
          ]
        }
      ]
    },
    {
      "cell_type": "markdown",
      "source": [
        "# Data Augmentation Strategies"
      ],
      "metadata": {
        "id": "nZJa7_X8TVZ-"
      }
    },
    {
      "cell_type": "code",
      "source": [
        "# Apply Random Noise to Numerical Columns\n",
        "# Add random noise to purchase_amount\n",
        "noise_factor = 0.05  # Adjust noise factor for better augmentation\n",
        "original_std = df['purchase_amount'].std()\n",
        "df['purchase_amount'] += np.random.normal(0, noise_factor * original_std, df.shape[0])\n",
        "\n",
        "print(\"\\nRandom Noise Applied to purchase_amount:\")\n",
        "print(df[['purchase_amount']].head())"
      ],
      "metadata": {
        "colab": {
          "base_uri": "https://localhost:8080/"
        },
        "id": "50msN4u5URYw",
        "outputId": "89d82d71-36b3-41c1-80a3-56e8dce2eade"
      },
      "execution_count": 58,
      "outputs": [
        {
          "output_type": "stream",
          "name": "stdout",
          "text": [
            "\n",
            "Random Noise Applied to purchase_amount:\n",
            "   purchase_amount\n",
            "0       419.012236\n",
            "1       332.775645\n",
            "2       443.115941\n",
            "3       256.825392\n",
            "4        64.138786\n"
          ]
        }
      ]
    },
    {
      "cell_type": "code",
      "source": [
        "# Transform Skewed Features\n",
        "# Check skewness\n",
        "skewness = df['purchase_amount'].skew()\n",
        "print(f\"\\nSkewness of purchase_amount: {skewness}\")\n",
        "\n",
        "# Apply log transformation if skewed\n",
        "if skewness > 1:\n",
        "    df['purchase_amount'] = np.log1p(df['purchase_amount'])\n",
        "    print(\"\\nLog Transformation Applied to purchase_amount.\")\n",
        "\n",
        "print(\"\\nTransformed purchase_amount:\")\n",
        "print(df[['purchase_amount']].head())"
      ],
      "metadata": {
        "colab": {
          "base_uri": "https://localhost:8080/"
        },
        "id": "Tm6r5YvnURVo",
        "outputId": "ab295f83-05ad-4a21-d315-1405b1b7b54e"
      },
      "execution_count": 59,
      "outputs": [
        {
          "output_type": "stream",
          "name": "stdout",
          "text": [
            "\n",
            "Skewness of purchase_amount: 0.06495551543001622\n",
            "\n",
            "Transformed purchase_amount:\n",
            "   purchase_amount\n",
            "0       419.012236\n",
            "1       332.775645\n",
            "2       443.115941\n",
            "3       256.825392\n",
            "4        64.138786\n"
          ]
        }
      ]
    },
    {
      "cell_type": "code",
      "source": [
        "# Generate Synthetic Data (Choose One Approach)\n",
        "\n",
        "# Approach 1: Discretize Target Variable and Use SMOTE\n",
        "def augment_with_smote(df):\n",
        "    # Encode categorical variables\n",
        "    X = df.drop(columns=['customer_id_legacy', 'transaction_id', 'customer_rating'])\n",
        "    y = df['customer_rating']\n",
        "\n",
        "    # One-hot encode categorical features\n",
        "    encoder = OneHotEncoder(drop='first', sparse_output=False)\n",
        "    X_encoded = encoder.fit_transform(X[categorical_cols])\n",
        "    X_encoded = pd.DataFrame(X_encoded, columns=encoder.get_feature_names_out(categorical_cols))\n",
        "    X_final = pd.concat([X.drop(columns=categorical_cols), X_encoded], axis=1)\n",
        "\n",
        "    # Discretize the continuous target into bins\n",
        "    discretizer = KBinsDiscretizer(n_bins=3, encode='ordinal', strategy='uniform')\n",
        "    y_discrete = discretizer.fit_transform(y.values.reshape(-1, 1)).ravel()\n",
        "\n",
        "    # Apply SMOTE to the discretized target\n",
        "    smote = SMOTE(random_state=42)\n",
        "    X_resampled, y_resampled = smote.fit_resample(X_final, y_discrete)\n",
        "\n",
        "    # Decode the discretized target back to the original scale\n",
        "    y_resampled_continuous = discretizer.inverse_transform(y_resampled.reshape(-1, 1)).ravel()\n",
        "\n",
        "    # Combine resampled data into a DataFrame\n",
        "    synthetic_data = pd.DataFrame(X_resampled, columns=X_final.columns)\n",
        "    synthetic_data['customer_rating'] = y_resampled_continuous\n",
        "\n",
        "    # Decode one-hot-encoded features back to original format\n",
        "    def decode_one_hot(encoded_df, original_df):\n",
        "        decoded_df = pd.DataFrame(index=encoded_df.index)\n",
        "        for col in categorical_cols:\n",
        "            one_hot_cols = [c for c in encoded_df.columns if c.startswith(col)]\n",
        "            decoded_df[col] = encoded_df[one_hot_cols].idxmax(axis=1).str.replace(f\"{col}_\", \"\")\n",
        "        return decoded_df\n",
        "\n",
        "    decoded_categoricals = decode_one_hot(synthetic_data, X)\n",
        "    synthetic_data = pd.concat([synthetic_data.drop(columns=[c for c in synthetic_data.columns if any(cat in c for cat in categorical_cols)]), decoded_categoricals], axis=1)\n",
        "\n",
        "    # Generate synthetic IDs\n",
        "    synthetic_data['customer_id_legacy'] = [uuid.uuid4().int % 10**9 for _ in range(synthetic_data.shape[0])]\n",
        "    synthetic_data['transaction_id'] = range(df['transaction_id'].max() + 1, df['transaction_id'].max() + 1 + synthetic_data.shape[0])\n",
        "\n",
        "    return synthetic_data"
      ],
      "metadata": {
        "id": "NEpRnqnOURSw"
      },
      "execution_count": 60,
      "outputs": []
    },
    {
      "cell_type": "code",
      "source": [
        "# Approach 2: Interpolation for Continuous Target\n",
        "def augment_with_interpolation(df):\n",
        "    # Function to generate synthetic samples via interpolation\n",
        "    def interpolate_data(X, y, n_samples):\n",
        "        synthetic_X = []\n",
        "        synthetic_y = []\n",
        "\n",
        "        for _ in range(n_samples):\n",
        "            # Randomly select two samples\n",
        "            idx1, idx2 = np.random.choice(len(X), size=2, replace=False)\n",
        "            alpha = np.random.uniform(0, 1)  # Interpolation factor\n",
        "\n",
        "            # Interpolate features and target\n",
        "            synthetic_X.append(alpha * X.iloc[idx1] + (1 - alpha) * X.iloc[idx2])\n",
        "            synthetic_y.append(alpha * y.iloc[idx1] + (1 - alpha) * y.iloc[idx2])\n",
        "\n",
        "        synthetic_X = pd.DataFrame(synthetic_X, columns=X.columns)\n",
        "        synthetic_y = pd.Series(synthetic_y, name=y.name)\n",
        "        return synthetic_X, synthetic_y\n",
        "\n",
        "    # Prepare data for augmentation\n",
        "    X = df.drop(columns=['customer_id_legacy', 'transaction_id', 'customer_rating'])\n",
        "    y = df['customer_rating']\n",
        "\n",
        "    # Generate synthetic data\n",
        "    n_synthetic_samples = len(df)  # Generate as many synthetic samples as the original dataset\n",
        "    synthetic_X, synthetic_y = interpolate_data(X, y, n_synthetic_samples)\n",
        "\n",
        "    # Combine synthetic data into a DataFrame\n",
        "    synthetic_data = pd.concat([synthetic_X, synthetic_y], axis=1)\n",
        "    synthetic_data.columns = X.columns.tolist() + ['customer_rating']\n",
        "\n",
        "    # Generate synthetic IDs\n",
        "    synthetic_data['customer_id_legacy'] = [uuid.uuid4().int % 10**9 for _ in range(synthetic_data.shape[0])]\n",
        "    synthetic_data['transaction_id'] = range(df['transaction_id'].max() + 1, df['transaction_id'].max() + 1 + synthetic_data.shape[0])\n",
        "\n",
        "    return synthetic_data"
      ],
      "metadata": {
        "id": "w8PMu_8tURPr"
      },
      "execution_count": 61,
      "outputs": []
    },
    {
      "cell_type": "code",
      "source": [
        "# Choose an augmentation approach\n",
        "augmentation_method = \"smote\"  # Change to \"interpolation\" if needed\n",
        "\n",
        "if augmentation_method == \"smote\":\n",
        "    synthetic_data = augment_with_smote(df)\n",
        "elif augmentation_method == \"interpolation\":\n",
        "    synthetic_data = augment_with_interpolation(df)\n",
        "\n",
        "# Concatenate synthetic data with the original dataset\n",
        "df_augmented = pd.concat([df, synthetic_data], axis=0).reset_index(drop=True)\n",
        "\n",
        "print(\"\\nSynthetic Data Generated:\")\n",
        "print(synthetic_data.head())"
      ],
      "metadata": {
        "colab": {
          "base_uri": "https://localhost:8080/"
        },
        "id": "M2BmnKCjURMB",
        "outputId": "f91915b8-5284-44ca-d4d0-d5a4534b4f0b"
      },
      "execution_count": 62,
      "outputs": [
        {
          "output_type": "stream",
          "name": "stdout",
          "text": [
            "\n",
            "Synthetic Data Generated:\n",
            "   purchase_amount    year  month  day  customer_rating product_category  \\\n",
            "0       419.012236  2024.0    1.0  1.0         1.666667           Sports   \n",
            "1       332.775645  2024.0    1.0  2.0         4.333333      Electronics   \n",
            "2       443.115941  2024.0    1.0  3.0         1.666667      Electronics   \n",
            "3       256.825392  2024.0    1.0  4.0         3.000000         Clothing   \n",
            "4        64.138786  2024.0    1.0  5.0         1.666667         Clothing   \n",
            "\n",
            "   customer_id_legacy  transaction_id  \n",
            "0           750131565            1151  \n",
            "1           223250629            1152  \n",
            "2           725556196            1153  \n",
            "3           122837308            1154  \n",
            "4           946962882            1155  \n"
          ]
        }
      ]
    },
    {
      "cell_type": "markdown",
      "source": [
        "# Export the Augmented Data"
      ],
      "metadata": {
        "id": "3Xj5BFHFTWMZ"
      }
    },
    {
      "cell_type": "code",
      "source": [
        "# Export the Augmented Dataset\n",
        "\n",
        "# Save the final dataset\n",
        "output_file = 'customer_transactions_augmented.csv.'\n",
        "df_augmented.to_csv(output_file, index=False)\n",
        "\n",
        "print(f\"\\nFinal Preprocessed Dataset Saved Successfully as '{output_file}'!\")"
      ],
      "metadata": {
        "colab": {
          "base_uri": "https://localhost:8080/"
        },
        "id": "3Az3RpyVTcsL",
        "outputId": "05b21a47-eab4-4a5e-8492-93a04744c3ba"
      },
      "execution_count": 63,
      "outputs": [
        {
          "output_type": "stream",
          "name": "stdout",
          "text": [
            "\n",
            "Final Preprocessed Dataset Saved Successfully as 'customer_transactions_augmented.csv.'!\n"
          ]
        }
      ]
    },
    {
      "cell_type": "markdown",
      "source": [
        " # Part 2: Merging Datasets with Transitive Properties\n",
        "\n",
        " Objective: Merge two different datasets with shared but indirect relationships between entities."
      ],
      "metadata": {
        "id": "lqCIPJbNUiU2"
      }
    },
    {
      "cell_type": "code",
      "source": [
        "# Import the necessary libraries\n",
        "import pandas as pd\n",
        "import numpy as np\n",
        "from sklearn.feature_extraction.text import TfidfVectorizer\n",
        "from datetime import datetime"
      ],
      "metadata": {
        "id": "7fX2TJxMUy-c"
      },
      "execution_count": 64,
      "outputs": []
    },
    {
      "cell_type": "code",
      "source": [
        "# Load the Datasets\n",
        "try:\n",
        "    # Load the augmented transactions dataset\n",
        "    transactions_df = pd.read_csv('/content/customer_transactions_augmented.csv.')\n",
        "except FileNotFoundError:\n",
        "    print(\"Error: The file 'customer_transactions_augmented.csv' was not found.\")\n",
        "    exit()"
      ],
      "metadata": {
        "id": "oBhQUnQAU18M"
      },
      "execution_count": 65,
      "outputs": []
    },
    {
      "cell_type": "code",
      "source": [
        "try:\n",
        "    # Load the social profiles dataset\n",
        "    social_profiles_df = pd.read_csv('/content/customer_social_profiles.csv')\n",
        "except FileNotFoundError:\n",
        "    print(\"Error: The file 'customer_social_profiles.csv' was not found.\")\n",
        "    exit()"
      ],
      "metadata": {
        "id": "O8ae2Ef4U-eV"
      },
      "execution_count": 66,
      "outputs": []
    },
    {
      "cell_type": "code",
      "source": [
        "try:\n",
        "    # Load the ID mapping dataset\n",
        "    id_mapping_df = pd.read_csv('/content/id_mapping.csv')\n",
        "except FileNotFoundError:\n",
        "    print(\"Error: The file 'id_mapping.csv' was not found.\")\n",
        "    exit()"
      ],
      "metadata": {
        "id": "UJppn35mVLYA"
      },
      "execution_count": 67,
      "outputs": []
    },
    {
      "cell_type": "code",
      "source": [
        "# Display basic information about all datasets\n",
        "print(\"\\nTransactions Dataset Overview:\")\n",
        "print(transactions_df.info())"
      ],
      "metadata": {
        "colab": {
          "base_uri": "https://localhost:8080/"
        },
        "id": "LhR809PrVOgi",
        "outputId": "c327954b-cd30-4732-b2de-40358ef24d1a"
      },
      "execution_count": 68,
      "outputs": [
        {
          "output_type": "stream",
          "name": "stdout",
          "text": [
            "\n",
            "Transactions Dataset Overview:\n",
            "<class 'pandas.core.frame.DataFrame'>\n",
            "RangeIndex: 315 entries, 0 to 314\n",
            "Data columns (total 8 columns):\n",
            " #   Column              Non-Null Count  Dtype  \n",
            "---  ------              --------------  -----  \n",
            " 0   customer_id_legacy  315 non-null    int64  \n",
            " 1   transaction_id      315 non-null    int64  \n",
            " 2   purchase_amount     315 non-null    float64\n",
            " 3   product_category    315 non-null    object \n",
            " 4   customer_rating     315 non-null    float64\n",
            " 5   year                315 non-null    float64\n",
            " 6   month               315 non-null    float64\n",
            " 7   day                 315 non-null    float64\n",
            "dtypes: float64(5), int64(2), object(1)\n",
            "memory usage: 19.8+ KB\n",
            "None\n"
          ]
        }
      ]
    },
    {
      "cell_type": "code",
      "source": [
        "# Map IDs Using id_mapping.csv\n",
        "# Merge transactions_df with id_mapping_df to get customer_id_new\n",
        "transactions_mapped = pd.merge(\n",
        "    transactions_df,\n",
        "    id_mapping_df,\n",
        "    left_on='customer_id_legacy',\n",
        "    right_on='customer_id_legacy',\n",
        "    how='left'\n",
        ")\n",
        "print(\"\\nTransactions Mapped with New IDs:\")\n",
        "print(transactions_mapped.head())"
      ],
      "metadata": {
        "colab": {
          "base_uri": "https://localhost:8080/"
        },
        "id": "MXStsO1wWC15",
        "outputId": "15d4d9c9-d5ca-43fc-f975-cf259685e757"
      },
      "execution_count": 69,
      "outputs": [
        {
          "output_type": "stream",
          "name": "stdout",
          "text": [
            "\n",
            "Transactions Mapped with New IDs:\n",
            "   customer_id_legacy  transaction_id  purchase_amount product_category  \\\n",
            "0                 151            1001       419.012236           Sports   \n",
            "1                 192            1002       332.775645      Electronics   \n",
            "2                 192            1002       332.775645      Electronics   \n",
            "3                 192            1002       332.775645      Electronics   \n",
            "4                 192            1002       332.775645      Electronics   \n",
            "\n",
            "   customer_rating    year  month  day customer_id_new  \n",
            "0              2.3  2024.0    1.0  1.0            A176  \n",
            "1              4.2  2024.0    1.0  2.0            A156  \n",
            "2              4.2  2024.0    1.0  2.0            A108  \n",
            "3              4.2  2024.0    1.0  2.0            A110  \n",
            "4              4.2  2024.0    1.0  2.0            A140  \n"
          ]
        }
      ]
    },
    {
      "cell_type": "code",
      "source": [
        "# Debugging: Check if customer_id_new exists\n",
        "if 'customer_id_new' not in transactions_mapped.columns:\n",
        "    raise KeyError(\"Column 'customer_id_new' is missing after merging transactions_df with id_mapping_df.\")\n",
        "\n",
        "# Merge social_profiles_df with id_mapping_df to get customer_id_legacy\n",
        "social_profiles_mapped = pd.merge(\n",
        "    social_profiles_df,\n",
        "    id_mapping_df,\n",
        "    left_on='customer_id_new',\n",
        "    right_on='customer_id_new',\n",
        "    how='left'\n",
        ")\n",
        "print(\"\\nSocial Profiles Mapped with Legacy IDs:\")\n",
        "print(social_profiles_mapped.head())"
      ],
      "metadata": {
        "colab": {
          "base_uri": "https://localhost:8080/"
        },
        "id": "OH7bTuiWWCys",
        "outputId": "97bf4587-f448-458e-a4bf-d5b40cc96975"
      },
      "execution_count": 70,
      "outputs": [
        {
          "output_type": "stream",
          "name": "stdout",
          "text": [
            "\n",
            "Social Profiles Mapped with Legacy IDs:\n",
            "  customer_id_new social_media_platform  engagement_score  \\\n",
            "0            A178              LinkedIn                74   \n",
            "1            A178              LinkedIn                74   \n",
            "2            A190               Twitter                82   \n",
            "3            A150              Facebook                96   \n",
            "4            A162               Twitter                89   \n",
            "\n",
            "   purchase_interest_score review_sentiment  customer_id_legacy  \n",
            "0                      4.9         Positive               199.0  \n",
            "1                      4.9         Positive               116.0  \n",
            "2                      4.8          Neutral                 NaN  \n",
            "3                      1.6         Positive               167.0  \n",
            "4                      2.6         Positive               195.0  \n"
          ]
        }
      ]
    },
    {
      "cell_type": "code",
      "source": [
        "# Debugging: Check if customer_id_legacy exists\n",
        "if 'customer_id_legacy' not in social_profiles_mapped.columns:\n",
        "    raise KeyError(\"Column 'customer_id_legacy' is missing after merging social_profiles_df with id_mapping_df.\")"
      ],
      "metadata": {
        "id": "UlqZ7hB0WCwQ"
      },
      "execution_count": 71,
      "outputs": []
    },
    {
      "cell_type": "code",
      "source": [
        "# Merge Both Datasets Based on Transitive Relationships\n",
        "# Merge the two mapped datasets on customer_id_new\n",
        "merged_df = pd.merge(\n",
        "    transactions_mapped,\n",
        "    social_profiles_mapped,\n",
        "    on='customer_id_new',\n",
        "    how='outer'\n",
        ")\n",
        "print(\"\\nFinal Merged Dataset:\")\n",
        "print(merged_df.head())"
      ],
      "metadata": {
        "colab": {
          "base_uri": "https://localhost:8080/"
        },
        "id": "rnNhNULVWCqD",
        "outputId": "99e88de9-d6eb-4bff-f57f-6b32b1f9c4f4"
      },
      "execution_count": 72,
      "outputs": [
        {
          "output_type": "stream",
          "name": "stdout",
          "text": [
            "\n",
            "Final Merged Dataset:\n",
            "   customer_id_legacy_x  transaction_id  purchase_amount product_category  \\\n",
            "0                   NaN             NaN              NaN              NaN   \n",
            "1                   NaN             NaN              NaN              NaN   \n",
            "2                 163.0          1022.0       227.990461        Groceries   \n",
            "3                 163.0          1022.0       227.990461        Groceries   \n",
            "4                 163.0          1044.0       501.756486           Sports   \n",
            "\n",
            "   customer_rating    year  month   day customer_id_new social_media_platform  \\\n",
            "0              NaN     NaN    NaN   NaN            A100               Twitter   \n",
            "1              NaN     NaN    NaN   NaN            A100             Instagram   \n",
            "2              2.7  2024.0    1.0  22.0            A101               Twitter   \n",
            "3              2.7  2024.0    1.0  22.0            A101               Twitter   \n",
            "4              3.0  2024.0    2.0  13.0            A101               Twitter   \n",
            "\n",
            "   engagement_score  purchase_interest_score review_sentiment  \\\n",
            "0              73.0                      4.4         Negative   \n",
            "1              81.0                      4.4          Neutral   \n",
            "2              68.0                      1.0          Neutral   \n",
            "3              68.0                      1.0          Neutral   \n",
            "4              68.0                      1.0          Neutral   \n",
            "\n",
            "   customer_id_legacy_y  \n",
            "0                 155.0  \n",
            "1                 155.0  \n",
            "2                 145.0  \n",
            "3                 163.0  \n",
            "4                 145.0  \n"
          ]
        }
      ]
    },
    {
      "cell_type": "code",
      "source": [
        "# Debugging: Check for missing columns\n",
        "missing_columns = ['customer_id_new', 'customer_id_legacy', 'engagement_score']\n",
        "for col in missing_columns:\n",
        "    if col not in merged_df.columns:\n",
        "        print(f\"Warning: Column '{col}' is missing in the final merged dataset.\")"
      ],
      "metadata": {
        "colab": {
          "base_uri": "https://localhost:8080/"
        },
        "id": "ezYO0Oj9WOsL",
        "outputId": "b08422ec-0d4a-4c4c-8afc-9b7853f7090d"
      },
      "execution_count": 73,
      "outputs": [
        {
          "output_type": "stream",
          "name": "stdout",
          "text": [
            "Warning: Column 'customer_id_legacy' is missing in the final merged dataset.\n"
          ]
        }
      ]
    },
    {
      "cell_type": "code",
      "source": [
        "# Handle conflicts where one customer ID maps to multiple entries\n",
        "# Aggregate duplicate rows by taking the mean of numerical columns and mode of categorical columns\n",
        "def aggregate_duplicates(df):\n",
        "    # Group by customer_id_new and aggregate\n",
        "    aggregation_dict = {\n",
        "        'purchase_amount': 'mean',\n",
        "        'customer_rating': 'mean',\n",
        "        'engagement_score': lambda x: x.sum() if 'engagement_score' in df.columns else np.nan,\n",
        "        'purchase_interest_score': 'mean'\n",
        "    }\n",
        "\n",
        "    # Only include customer_id_legacy if it exists\n",
        "    if 'customer_id_legacy' in df.columns:\n",
        "        aggregation_dict['customer_id_legacy'] = lambda x: x.mode()[0] if not x.empty else np.nan\n",
        "\n",
        "    aggregated_df = df.groupby('customer_id_new', as_index=False).agg(aggregation_dict)\n",
        "    return aggregated_df\n",
        "\n",
        "merged_df = aggregate_duplicates(merged_df)\n",
        "print(\"\\nAggregated Merged Dataset:\")\n",
        "print(merged_df.head())"
      ],
      "metadata": {
        "colab": {
          "base_uri": "https://localhost:8080/"
        },
        "id": "C2vEjcf2WOph",
        "outputId": "b5a50bde-6524-4fb4-81c5-220b0b9306f7"
      },
      "execution_count": 74,
      "outputs": [
        {
          "output_type": "stream",
          "name": "stdout",
          "text": [
            "\n",
            "Aggregated Merged Dataset:\n",
            "  customer_id_new  purchase_amount  customer_rating  engagement_score  \\\n",
            "0            A100              NaN              NaN             154.0   \n",
            "1            A101       364.873473             2.85             272.0   \n",
            "2            A102       299.304199             3.20             816.0   \n",
            "3            A103       175.545776             3.20             386.0   \n",
            "4            A104              NaN              NaN             249.0   \n",
            "\n",
            "   purchase_interest_score  \n",
            "0                 4.400000  \n",
            "1                 1.000000  \n",
            "2                 4.800000  \n",
            "3                 2.866667  \n",
            "4                 2.933333  \n"
          ]
        }
      ]
    },
    {
      "cell_type": "code",
      "source": [
        "# Create a Customer Engagement Score\n",
        "# Combine transaction history (purchase_amount) and engagement_score\n",
        "if 'engagement_score' in merged_df.columns:\n",
        "    merged_df['customer_engagement_score'] = (\n",
        "        merged_df['purchase_amount'] * 0.6 +\n",
        "        merged_df['engagement_score'] * 0.4\n",
        "    )\n",
        "else:\n",
        "    print(\"Warning: 'engagement_score' column is missing. Skipping customer engagement score calculation.\")\n",
        "    merged_df['customer_engagement_score'] = merged_df['purchase_amount'] * 0.6\n",
        "\n",
        "print(\"\\nCustomer Engagement Score Added:\")\n",
        "print(merged_df[['customer_id_new', 'customer_engagement_score']].head())"
      ],
      "metadata": {
        "colab": {
          "base_uri": "https://localhost:8080/"
        },
        "id": "8O1uQxR5WOm-",
        "outputId": "03238885-1672-4b1a-ef3b-c5dd6368a854"
      },
      "execution_count": 75,
      "outputs": [
        {
          "output_type": "stream",
          "name": "stdout",
          "text": [
            "\n",
            "Customer Engagement Score Added:\n",
            "  customer_id_new  customer_engagement_score\n",
            "0            A100                        NaN\n",
            "1            A101                 327.724084\n",
            "2            A102                 505.982519\n",
            "3            A103                 259.727466\n",
            "4            A104                        NaN\n"
          ]
        }
      ]
    },
    {
      "cell_type": "code",
      "source": [
        "# Engineer predictive behavioral features\n",
        "# Moving average of transactions (rolling window of 3)\n",
        "merged_df.sort_values(by=['customer_id_new'], inplace=True)\n",
        "merged_df['moving_avg_purchase'] = merged_df.groupby('customer_id_new')['purchase_amount'].transform(\n",
        "    lambda x: x.rolling(window=3, min_periods=1).mean()\n",
        ")\n",
        "print(\"\\nMoving Average of Purchases Added:\")\n",
        "print(merged_df[['customer_id_new', 'purchase_amount', 'moving_avg_purchase']].head())"
      ],
      "metadata": {
        "colab": {
          "base_uri": "https://localhost:8080/"
        },
        "id": "d5SWu3r4WOkm",
        "outputId": "a11f7707-9e6e-4b09-9516-57f7cc13b465"
      },
      "execution_count": 76,
      "outputs": [
        {
          "output_type": "stream",
          "name": "stdout",
          "text": [
            "\n",
            "Moving Average of Purchases Added:\n",
            "  customer_id_new  purchase_amount  moving_avg_purchase\n",
            "0            A100              NaN                  NaN\n",
            "1            A101       364.873473           364.873473\n",
            "2            A102       299.304199           299.304199\n",
            "3            A103       175.545776           175.545776\n",
            "4            A104              NaN                  NaN\n"
          ]
        }
      ]
    },
    {
      "cell_type": "code",
      "source": [
        "# Time-based aggregation of purchases (e.g., monthly total)\n",
        "# Convert purchase_date to datetime\n",
        "if 'purchase_date' in merged_df.columns:\n",
        "    merged_df['month'] = merged_df['purchase_date'].dt.to_period('M').astype(str)\n",
        "    monthly_aggregation = merged_df.groupby(['customer_id_new', 'month'])['purchase_amount'].sum().reset_index()\n",
        "    monthly_aggregation.rename(columns={'purchase_amount': 'monthly_total_purchase'}, inplace=True)\n",
        "    merged_df = pd.merge(merged_df, monthly_aggregation, on=['customer_id_new', 'month'], how='left')\n",
        "    print(\"\\nMonthly Aggregation of Purchases Added:\")\n",
        "    print(merged_df[['customer_id_new', 'month', 'monthly_total_purchase']].head())\n",
        "else:\n",
        "    print(\"Warning: 'purchase_date' column is missing. Skipping time-based aggregation.\")\n",
        "\n",
        "# TF-IDF on review_sentiment\n",
        "if 'review_sentiment' in merged_df.columns:\n",
        "    tfidf = TfidfVectorizer(max_features=10)  # Limit to top 10 features for simplicity\n",
        "    tfidf_matrix = tfidf.fit_transform(merged_df['review_sentiment'].fillna(''))\n",
        "    tfidf_df = pd.DataFrame(tfidf_matrix.toarray(), columns=tfidf.get_feature_names_out())\n",
        "    merged_df = pd.concat([merged_df.reset_index(drop=True), tfidf_df], axis=1)\n",
        "    print(\"\\nTF-IDF Features Added:\")\n",
        "    print(merged_df.head())\n",
        "else:\n",
        "    print(\"Warning: 'review_sentiment' column is missing. Skipping TF-IDF feature extraction.\")"
      ],
      "metadata": {
        "colab": {
          "base_uri": "https://localhost:8080/"
        },
        "id": "EUhDfeNeWOh-",
        "outputId": "8da2cc93-6466-4518-aefc-ed25767d6b3e"
      },
      "execution_count": 77,
      "outputs": [
        {
          "output_type": "stream",
          "name": "stdout",
          "text": [
            "Warning: 'purchase_date' column is missing. Skipping time-based aggregation.\n",
            "Warning: 'review_sentiment' column is missing. Skipping TF-IDF feature extraction.\n"
          ]
        }
      ]
    },
    {
      "cell_type": "code",
      "source": [
        "# Export the Final Preprocessed Data\n",
        "# Save the final dataset\n",
        "output_file = 'final_customer_data_group17.csv'\n",
        "merged_df.to_csv(output_file, index=False)\n",
        "\n",
        "print(f\"\\nFinal Preprocessed Dataset Saved Successfully as '{output_file}'!\")"
      ],
      "metadata": {
        "colab": {
          "base_uri": "https://localhost:8080/"
        },
        "id": "c2LgMBAiWOfY",
        "outputId": "b0f4f00c-d2da-4e51-8e03-caa9abe89984"
      },
      "execution_count": 78,
      "outputs": [
        {
          "output_type": "stream",
          "name": "stdout",
          "text": [
            "\n",
            "Final Preprocessed Dataset Saved Successfully as 'final_customer_data_group17.csv'!\n"
          ]
        }
      ]
    },
    {
      "cell_type": "markdown",
      "source": [
        "# Part 3: Data Consistency and Quality Checks\n",
        "Objective: Ensure that the preprocessed dataset is clean, structured, and machine learning-ready."
      ],
      "metadata": {
        "id": "AtLyt8ROWlEC"
      }
    },
    {
      "cell_type": "code",
      "source": [
        "# Check for Duplicate Entries\n",
        "print(\"\\nChecking for Duplicate Entries:\")\n",
        "if merged_df.duplicated().any():\n",
        "    print(\"Duplicate entries found. Dropping duplicates...\")\n",
        "    merged_df.drop_duplicates(inplace=True)\n",
        "else:\n",
        "    print(\"No duplicate entries found.\")"
      ],
      "metadata": {
        "id": "BRwmuo8EsSqQ",
        "outputId": "6d310c0a-f3f7-498d-be8c-c0ab514f60b3",
        "colab": {
          "base_uri": "https://localhost:8080/"
        }
      },
      "execution_count": 79,
      "outputs": [
        {
          "output_type": "stream",
          "name": "stdout",
          "text": [
            "\n",
            "Checking for Duplicate Entries:\n",
            "No duplicate entries found.\n"
          ]
        }
      ]
    },
    {
      "cell_type": "code",
      "source": [
        "# Ensure All Categorical Values Are Correctly Mapped\n",
        "print(\"\\nValidating Categorical Values:\")\n",
        "categorical_cols = ['product_category', 'review_sentiment']  # Add relevant categorical columns here\n",
        "for col in categorical_cols:\n",
        "    if col in merged_df.columns:\n",
        "        unique_values = merged_df[col].unique()\n",
        "        print(f\"Unique values in {col}: {unique_values}\")\n",
        "    else:\n",
        "        print(f\"Warning: Column '{col}' is missing. Skipping validation.\")"
      ],
      "metadata": {
        "id": "fbHemF2ZtLjQ",
        "outputId": "f0b3d581-7976-466e-a188-8e85867d6005",
        "colab": {
          "base_uri": "https://localhost:8080/"
        }
      },
      "execution_count": 80,
      "outputs": [
        {
          "output_type": "stream",
          "name": "stdout",
          "text": [
            "\n",
            "Validating Categorical Values:\n",
            "Warning: Column 'product_category' is missing. Skipping validation.\n",
            "Warning: Column 'review_sentiment' is missing. Skipping validation.\n"
          ]
        }
      ]
    },
    {
      "cell_type": "code",
      "source": [
        "# Validate That All Customer Transactions Match a Valid Social Profile\n",
        "print(\"\\nValidating Customer Transactions Against Social Profiles:\")\n",
        "if 'customer_id_new' in merged_df.columns:\n",
        "    unmatched_transactions = merged_df['customer_id_new'].isnull().sum()\n",
        "    if unmatched_transactions > 0:\n",
        "        print(f\"Warning: {unmatched_transactions} transactions do not match a valid social profile.\")\n",
        "    else:\n",
        "        print(\"All customer transactions match a valid social profile.\")\n",
        "else:\n",
        "    print(\"Warning: 'customer_id_new' column is missing. Skipping validation.\")"
      ],
      "metadata": {
        "id": "ifCAxkLDtNc7",
        "outputId": "4e48afe5-dc12-40a9-f25c-226ade606951",
        "colab": {
          "base_uri": "https://localhost:8080/"
        }
      },
      "execution_count": 81,
      "outputs": [
        {
          "output_type": "stream",
          "name": "stdout",
          "text": [
            "\n",
            "Validating Customer Transactions Against Social Profiles:\n",
            "All customer transactions match a valid social profile.\n"
          ]
        }
      ]
    },
    {
      "cell_type": "code",
      "source": [
        "# Generate describe() Reports for Numerical Columns\n",
        "print(\"\\nStatistical Summary for Numerical Columns:\")\n",
        "numerical_cols = ['purchase_amount', 'customer_rating', 'engagement_score', 'purchase_interest_score']\n",
        "if any(col in merged_df.columns for col in numerical_cols):\n",
        "    print(merged_df[numerical_cols].describe())\n",
        "else:\n",
        "    print(\"Warning: No numerical columns found for summarization.\")"
      ],
      "metadata": {
        "id": "mz29MFEzsXU6",
        "outputId": "5b25414f-6dcb-4345-be14-5951e699938b",
        "colab": {
          "base_uri": "https://localhost:8080/"
        }
      },
      "execution_count": 82,
      "outputs": [
        {
          "output_type": "stream",
          "name": "stdout",
          "text": [
            "\n",
            "Statistical Summary for Numerical Columns:\n",
            "       purchase_amount  customer_rating  engagement_score  \\\n",
            "count        65.000000        65.000000         95.000000   \n",
            "mean        288.529421         3.113324        637.242105   \n",
            "std          77.914933         0.923057       1123.160536   \n",
            "min          81.780586         1.100000          0.000000   \n",
            "25%         226.865051         2.550000         80.000000   \n",
            "50%         297.215645         3.000000        227.000000   \n",
            "75%         343.829444         3.620000        750.000000   \n",
            "max         429.922076         4.900000       8589.000000   \n",
            "\n",
            "       purchase_interest_score  \n",
            "count                84.000000  \n",
            "mean                  3.145065  \n",
            "std                   0.973007  \n",
            "min                   1.000000  \n",
            "25%                   2.650000  \n",
            "50%                   3.250000  \n",
            "75%                   3.862500  \n",
            "max                   4.900000  \n"
          ]
        }
      ]
    },
    {
      "cell_type": "code",
      "source": [
        "import matplotlib.pyplot as plt\n",
        "import seaborn as sns\n",
        "\n",
        "print(\"\\nVisualizing Distribution of Transaction Amounts:\")\n",
        "plt.figure(figsize=(12, 6))\n",
        "\n",
        "# Before augmentation (original dataset)\n",
        "if 'df' in locals():  # Check if the original dataset exists\n",
        "    plt.subplot(1, 2, 1)\n",
        "    sns.histplot(df['purchase_amount'], kde=True, color='blue')\n",
        "    plt.title('Transaction Amounts (Before Augmentation)')\n",
        "    plt.xlabel('Purchase Amount')\n",
        "    plt.ylabel('Frequency')\n",
        "\n",
        "# After augmentation (final dataset)\n",
        "plt.subplot(1, 2, 2)\n",
        "sns.histplot(merged_df['purchase_amount'], kde=True, color='green')\n",
        "plt.title('Transaction Amounts (After Augmentation)')\n",
        "plt.xlabel('Purchase Amount')\n",
        "plt.ylabel('Frequency')"
      ],
      "metadata": {
        "id": "_pu9VIsctZ9Q",
        "outputId": "e66dbf08-1e10-41fd-f023-4e2dd30cb546",
        "colab": {
          "base_uri": "https://localhost:8080/",
          "height": 618
        }
      },
      "execution_count": 85,
      "outputs": [
        {
          "output_type": "stream",
          "name": "stdout",
          "text": [
            "\n",
            "Visualizing Distribution of Transaction Amounts:\n"
          ]
        },
        {
          "output_type": "execute_result",
          "data": {
            "text/plain": [
              "Text(0, 0.5, 'Frequency')"
            ]
          },
          "metadata": {},
          "execution_count": 85
        },
        {
          "output_type": "display_data",
          "data": {
            "text/plain": [
              "<Figure size 1200x600 with 2 Axes>"
            ],
            "image/png": "[encoded data removed]"
          },
          "metadata": {}
        }
      ]
    },
    {
      "cell_type": "code",
      "source": [
        "# Identify Highly Correlated Features Using a Correlation Heatmap\n",
        "print(\"\\nIdentifying Highly Correlated Features:\")\n",
        "numerical_cols = ['purchase_amount', 'customer_rating', 'engagement_score', 'purchase_interest_score']\n",
        "correlation_matrix = merged_df[numerical_cols].corr()\n",
        "\n",
        "plt.figure(figsize=(10, 8))\n",
        "sns.heatmap(correlation_matrix, annot=True, cmap='coolwarm', fmt='.2f')\n",
        "plt.title('Correlation Heatmap of Numerical Features')\n",
        "plt.show()\n",
        "\n",
        "# Select the Top 10 Most Important Features Using a Feature Selection Algorithm\n",
        "from sklearn.feature_selection import SelectKBest, f_regression\n",
        "\n",
        "print(\"\\nSelecting Top 10 Most Important Features:\")\n",
        "X = merged_df.drop(columns=['customer_id_new', 'customer_id_legacy', 'transaction_id'], errors='ignore')\n",
        "y = merged_df['customer_engagement_score'] if 'customer_engagement_score' in merged_df.columns else None\n",
        "\n",
        "# Check for missing values in y\n",
        "if y is not None and y.isnull().any():\n",
        "    print(\"Warning: Missing values found in the target variable 'customer_engagement_score'. Dropping rows with missing values...\")\n",
        "    # Drop rows with missing values in y\n",
        "    valid_indices = y.notnull()\n",
        "    X = X[valid_indices]\n",
        "    y = y[valid_indices]\n",
        "\n",
        "# Check for missing values in X\n",
        "if X.isnull().values.any():\n",
        "    print(\"Warning: Missing values found in X. Imputing missing values...\")\n",
        "    from sklearn.impute import SimpleImputer\n",
        "\n",
        "    # Impute missing values in numerical columns using median\n",
        "    numerical_imputer = SimpleImputer(strategy='median')\n",
        "    X_numerical = X.select_dtypes(include=['float64', 'int64'])\n",
        "    X[X_numerical.columns] = numerical_imputer.fit_transform(X_numerical)\n",
        "\n",
        "    # Impute missing values in categorical columns using mode\n",
        "    categorical_imputer = SimpleImputer(strategy='most_frequent')\n",
        "    X_categorical = X.select_dtypes(include=['object', 'category'])\n",
        "    if not X_categorical.empty:\n",
        "        X[X_categorical.columns] = categorical_imputer.fit_transform(X_categorical)\n",
        "\n",
        "# Ensure all columns are numeric for SelectKBest\n",
        "X = pd.get_dummies(X, drop_first=True)\n",
        "\n",
        "if y is not None:\n",
        "    selector = SelectKBest(score_func=f_regression, k=10)\n",
        "    X_selected = selector.fit_transform(X, y)\n",
        "\n",
        "    selected_features = X.columns[selector.get_support()]\n",
        "    print(\"Top 10 Selected Features:\")\n",
        "    print(selected_features)\n",
        "else:\n",
        "    print(\"Warning: Target variable 'customer_engagement_score' is missing. Skipping feature selection.\")"
      ],
      "metadata": {
        "id": "Tj0cRR7PscUM",
        "outputId": "5394472c-6d73-474c-81e8-9841b8745b00",
        "colab": {
          "base_uri": "https://localhost:8080/",
          "height": 951
        }
      },
      "execution_count": 86,
      "outputs": [
        {
          "output_type": "stream",
          "name": "stdout",
          "text": [
            "\n",
            "Identifying Highly Correlated Features:\n"
          ]
        },
        {
          "output_type": "display_data",
          "data": {
            "text/plain": [
              "<Figure size 1000x800 with 2 Axes>"
            ],
            "image/png": "[encoded data removed]"
          },
          "metadata": {}
        },
        {
          "output_type": "stream",
          "name": "stdout",
          "text": [
            "\n",
            "Selecting Top 10 Most Important Features:\n",
            "Warning: Missing values found in the target variable 'customer_engagement_score'. Dropping rows with missing values...\n",
            "Warning: Missing values found in X. Imputing missing values...\n",
            "Top 10 Selected Features:\n",
            "Index(['purchase_amount', 'customer_rating', 'engagement_score',\n",
            "       'purchase_interest_score', 'customer_engagement_score',\n",
            "       'moving_avg_purchase'],\n",
            "      dtype='object')\n"
          ]
        },
        {
          "output_type": "stream",
          "name": "stderr",
          "text": [
            "/usr/local/lib/python3.11/dist-packages/sklearn/feature_selection/_univariate_selection.py:783: UserWarning: k=10 is greater than n_features=6. All the features will be returned.\n",
            "  warnings.warn(\n"
          ]
        }
      ]
    },
    {
      "cell_type": "code",
      "source": [
        "# Step 8: Save the Final Dataset\n",
        "output_file = 'final_dataset_ready_group17.csv'\n",
        "merged_df.to_csv(output_file, index=False)\n",
        "\n",
        "print(f\"\\nFinal Dataset Saved Successfully as '{output_file}'!\")"
      ],
      "metadata": {
        "id": "dRqVuiK8shfE",
        "outputId": "5778c80f-ed6b-436a-f014-64e39b4f9806",
        "colab": {
          "base_uri": "https://localhost:8080/"
        }
      },
      "execution_count": 87,
      "outputs": [
        {
          "output_type": "stream",
          "name": "stdout",
          "text": [
            "\n",
            "Final Dataset Saved Successfully as 'final_dataset_ready_group17.csv'!\n"
          ]
        }
      ]
    },
    {
      "cell_type": "markdown",
      "source": [
        "# Bonus Challenge Machine Learning Model to Predict Customer Spending)"
      ],
      "metadata": {
        "id": "2_Y36azqxy92"
      }
    },
    {
      "cell_type": "code",
      "source": [
        "# Import necessary libraries\n",
        "import pandas as pd\n",
        "import numpy as np\n",
        "from sklearn.model_selection import train_test_split\n",
        "from sklearn.linear_model import LinearRegression\n",
        "from sklearn.ensemble import RandomForestRegressor\n",
        "from xgboost import XGBRegressor\n",
        "from sklearn.metrics import mean_absolute_error, mean_squared_error, r2_score\n",
        "import joblib"
      ],
      "metadata": {
        "id": "_zWExAlpyJ4k"
      },
      "execution_count": 88,
      "outputs": []
    },
    {
      "cell_type": "code",
      "source": [
        "# Load the Final Preprocessed Dataset\n",
        "try:\n",
        "    # Load the dataset\n",
        "    df = pd.read_csv('/content/final_customer_data_group17.csv')\n",
        "except FileNotFoundError:\n",
        "    print(\"Error: The file 'final_customer_data_group17.csv' was not found.\")\n",
        "    exit()"
      ],
      "metadata": {
        "id": "LuUXb25WyT_T"
      },
      "execution_count": 89,
      "outputs": []
    },
    {
      "cell_type": "code",
      "source": [
        "# Display basic information about the dataset\n",
        "print(\"\\nDataset Overview:\")\n",
        "print(df.info())"
      ],
      "metadata": {
        "id": "AO2jPnh1yWgL",
        "outputId": "a9c8abd2-6c41-488b-8629-0fdc4c12ae87",
        "colab": {
          "base_uri": "https://localhost:8080/"
        }
      },
      "execution_count": 90,
      "outputs": [
        {
          "output_type": "stream",
          "name": "stdout",
          "text": [
            "\n",
            "Dataset Overview:\n",
            "<class 'pandas.core.frame.DataFrame'>\n",
            "RangeIndex: 95 entries, 0 to 94\n",
            "Data columns (total 7 columns):\n",
            " #   Column                     Non-Null Count  Dtype  \n",
            "---  ------                     --------------  -----  \n",
            " 0   customer_id_new            95 non-null     object \n",
            " 1   purchase_amount            65 non-null     float64\n",
            " 2   customer_rating            65 non-null     float64\n",
            " 3   engagement_score           95 non-null     float64\n",
            " 4   purchase_interest_score    84 non-null     float64\n",
            " 5   customer_engagement_score  65 non-null     float64\n",
            " 6   moving_avg_purchase        65 non-null     float64\n",
            "dtypes: float64(6), object(1)\n",
            "memory usage: 5.3+ KB\n",
            "None\n"
          ]
        }
      ]
    },
    {
      "cell_type": "code",
      "source": [
        "# Prepare Features and Target Variable\n",
        "# Define the target variable (e.g., purchase_amount)\n",
        "target_column = 'purchase_amount'\n",
        "\n",
        "# Drop non-numeric and irrelevant columns\n",
        "drop_columns = ['customer_id_new', 'customer_id_legacy', 'transaction_id', 'review_sentiment']\n",
        "if 'review_sentiment' in df.columns:\n",
        "    drop_columns.append('review_sentiment')\n",
        "\n",
        "X = df.drop(columns=[target_column] + drop_columns, errors='ignore')\n",
        "y = df[target_column]\n",
        "\n",
        "# Ensure all features are numeric\n",
        "X = pd.get_dummies(X, drop_first=True)"
      ],
      "metadata": {
        "id": "jGhXiz1XyYpf"
      },
      "execution_count": 91,
      "outputs": []
    },
    {
      "cell_type": "code",
      "source": [
        "# Handle Missing Values in y\n",
        "if y.isnull().any():\n",
        "    print(\"Warning: Missing values found in the target variable. Dropping rows with missing values...\")\n",
        "    valid_indices = y.notnull()\n",
        "    X = X[valid_indices]\n",
        "    y = y[valid_indices]"
      ],
      "metadata": {
        "id": "w0bV7WYBydzh",
        "outputId": "9b972773-357a-4187-d1a6-16231fb4f2b5",
        "colab": {
          "base_uri": "https://localhost:8080/"
        }
      },
      "execution_count": 92,
      "outputs": [
        {
          "output_type": "stream",
          "name": "stdout",
          "text": [
            "Warning: Missing values found in the target variable. Dropping rows with missing values...\n"
          ]
        }
      ]
    },
    {
      "cell_type": "code",
      "source": [
        "# Split Data into Training and Testing Sets\n",
        "X_train, X_test, y_train, y_test = train_test_split(X, y, test_size=0.2, random_state=42)\n",
        "\n",
        "print(\"\\nTraining and Testing Data Shapes:\")\n",
        "print(f\"X_train: {X_train.shape}, X_test: {X_test.shape}\")\n",
        "print(f\"y_train: {y_train.shape}, y_test: {y_test.shape}\")"
      ],
      "metadata": {
        "id": "Jk3h_zKIymY9",
        "outputId": "fe397b05-0a8d-4924-9222-204d5c071643",
        "colab": {
          "base_uri": "https://localhost:8080/"
        }
      },
      "execution_count": 93,
      "outputs": [
        {
          "output_type": "stream",
          "name": "stdout",
          "text": [
            "\n",
            "Training and Testing Data Shapes:\n",
            "X_train: (52, 5), X_test: (13, 5)\n",
            "y_train: (52,), y_test: (13,)\n"
          ]
        }
      ]
    },
    {
      "cell_type": "code",
      "source": [
        "from sklearn.impute import SimpleImputer\n",
        "from sklearn.linear_model import LinearRegression\n",
        "from sklearn.ensemble import RandomForestRegressor\n",
        "from xgboost import XGBRegressor\n",
        "from sklearn.metrics import mean_absolute_error, mean_squared_error, r2_score\n",
        "\n",
        "# Train Models\n",
        "\n",
        "# Check for missing values in X_train\n",
        "if X_train.isnull().values.any():\n",
        "    print(\"Warning: Missing values found in X_train. Imputing missing values...\")\n",
        "\n",
        "    # Impute missing values in numerical columns using median\n",
        "    numerical_imputer = SimpleImputer(strategy='median')\n",
        "    X_train_numerical = X_train.select_dtypes(include=['float64', 'int64'])\n",
        "    X_train[X_train_numerical.columns] = numerical_imputer.fit_transform(X_train_numerical)\n",
        "\n",
        "    # Impute missing values in categorical columns using mode\n",
        "    categorical_imputer = SimpleImputer(strategy='most_frequent')\n",
        "    X_train_categorical = X_train.select_dtypes(include=['object', 'category'])\n",
        "    if not X_train_categorical.empty:\n",
        "        X_train[X_train_categorical.columns] = categorical_imputer.fit_transform(X_train_categorical)\n",
        "\n",
        "# Ensure all features are numeric for Linear Regression\n",
        "X_train = pd.get_dummies(X_train, drop_first=True)\n",
        "\n",
        "# Similarly, preprocess X_test\n",
        "if X_test.isnull().values.any():\n",
        "    print(\"Warning: Missing values found in X_test. Imputing missing values...\")\n",
        "\n",
        "    # Impute missing values in numerical columns using median\n",
        "    X_test_numerical = X_test.select_dtypes(include=['float64', 'int64'])\n",
        "    X_test[X_test_numerical.columns] = numerical_imputer.transform(X_test_numerical)\n",
        "\n",
        "    # Impute missing values in categorical columns using mode\n",
        "    X_test_categorical = X_test.select_dtypes(include=['object', 'category'])\n",
        "    if not X_test_categorical.empty:\n",
        "        X_test[X_test_categorical.columns] = categorical_imputer.transform(X_test_categorical)\n",
        "\n",
        "# Ensure all features are numeric for Linear Regression\n",
        "X_test = pd.get_dummies(X_test, drop_first=True)\n",
        "\n",
        "# Align columns between X_train and X_test (in case one-hot encoding creates different columns)\n",
        "missing_cols = set(X_train.columns) - set(X_test.columns)\n",
        "for col in missing_cols:\n",
        "    X_test[col] = 0  # Add missing columns with default value 0\n",
        "X_test = X_test[X_train.columns]  # Reorder columns to match X_train\n",
        "\n",
        "# Initialize models\n",
        "linear_reg = LinearRegression()\n",
        "random_forest = RandomForestRegressor(random_state=42, n_jobs=-1)\n",
        "xgboost = XGBRegressor(random_state=42, n_jobs=-1)\n",
        "\n",
        "# Train models separately\n",
        "print(\"\\nTraining Linear Regression Model...\")\n",
        "linear_reg.fit(X_train, y_train)\n",
        "\n",
        "print(\"\\nTraining Random Forest Model...\")\n",
        "random_forest.fit(X_train, y_train)\n",
        "\n",
        "print(\"\\nTraining XGBoost Model...\")\n",
        "xgboost.fit(X_train, y_train)\n",
        "\n",
        "# Evaluate models\n",
        "def evaluate_model(model, X_test, y_test):\n",
        "    y_pred = model.predict(X_test)\n",
        "    mae = mean_absolute_error(y_test, y_pred)\n",
        "    mse = mean_squared_error(y_test, y_pred)\n",
        "    r2 = r2_score(y_test, y_pred)\n",
        "    return mae, mse, r2\n",
        "\n",
        "# Evaluate each model\n",
        "linear_reg_metrics = evaluate_model(linear_reg, X_test, y_test)\n",
        "random_forest_metrics = evaluate_model(random_forest, X_test, y_test)\n",
        "xgboost_metrics = evaluate_model(xgboost, X_test, y_test)\n",
        "\n",
        "# Display evaluation results\n",
        "print(\"\\nModel Evaluation Results:\")\n",
        "print(f\"Linear Regression - MAE: {linear_reg_metrics[0]:.2f}, MSE: {linear_reg_metrics[1]:.2f}, R²: {linear_reg_metrics[2]:.2f}\")\n",
        "print(f\"Random Forest - MAE: {random_forest_metrics[0]:.2f}, MSE: {random_forest_metrics[1]:.2f}, R²: {random_forest_metrics[2]:.2f}\")\n",
        "print(f\"XGBoost - MAE: {xgboost_metrics[0]:.2f}, MSE: {xgboost_metrics[1]:.2f}, R²: {xgboost_metrics[2]:.2f}\")\n",
        "\n",
        "# Compare Models and Identify the Best Model\n",
        "models = {\n",
        "    \"Linear Regression\": linear_reg_metrics,\n",
        "    \"Random Forest\": random_forest_metrics,\n",
        "    \"XGBoost\": xgboost_metrics\n",
        "}\n",
        "\n",
        "best_model_name = max(models, key=lambda k: models[k][2])  # Choose based on highest R² score\n",
        "best_model = {\"name\": best_model_name, \"metrics\": models[best_model_name]}\n",
        "print(f\"\\nBest Model: {best_model['name']} with R² Score: {best_model['metrics'][2]:.2f}\")"
      ],
      "metadata": {
        "id": "0Pr7rglVyogP",
        "outputId": "938f006b-9c6f-4ac1-e0c8-58b9dbdfd7a1",
        "colab": {
          "base_uri": "https://localhost:8080/"
        }
      },
      "execution_count": 95,
      "outputs": [
        {
          "output_type": "stream",
          "name": "stdout",
          "text": [
            "\n",
            "Training Linear Regression Model...\n",
            "\n",
            "Training Random Forest Model...\n",
            "\n",
            "Training XGBoost Model...\n",
            "\n",
            "Model Evaluation Results:\n",
            "Linear Regression - MAE: 0.00, MSE: 0.00, R²: 1.00\n",
            "Random Forest - MAE: 2.37, MSE: 8.28, R²: 1.00\n",
            "XGBoost - MAE: 3.36, MSE: 20.74, R²: 0.99\n",
            "\n",
            "Best Model: Linear Regression with R² Score: 1.00\n"
          ]
        }
      ]
    },
    {
      "cell_type": "code",
      "source": [
        "# Evaluate Models\n",
        "def evaluate_model(model, X_test, y_test):\n",
        "    y_pred = model.predict(X_test)\n",
        "    mae = mean_absolute_error(y_test, y_pred)\n",
        "    mse = mean_squared_error(y_test, y_pred)\n",
        "    r2 = r2_score(y_test, y_pred)\n",
        "    return mae, mse, r2\n",
        "\n",
        "# Evaluate each model\n",
        "linear_reg_metrics = evaluate_model(linear_reg, X_test, y_test)\n",
        "random_forest_metrics = evaluate_model(random_forest, X_test, y_test)\n",
        "xgboost_metrics = evaluate_model(xgboost, X_test, y_test)\n",
        "\n",
        "# Display evaluation results\n",
        "print(\"\\nModel Evaluation Results:\")\n",
        "print(f\"Linear Regression - MAE: {linear_reg_metrics[0]:.2f}, MSE: {linear_reg_metrics[1]:.2f}, R²: {linear_reg_metrics[2]:.2f}\")\n",
        "print(f\"Random Forest - MAE: {random_forest_metrics[0]:.2f}, MSE: {random_forest_metrics[1]:.2f}, R²: {random_forest_metrics[2]:.2f}\")\n",
        "print(f\"XGBoost - MAE: {xgboost_metrics[0]:.2f}, MSE: {xgboost_metrics[1]:.2f}, R²: {xgboost_metrics[2]:.2f}\")"
      ],
      "metadata": {
        "id": "Dcz4FkwIyrY5",
        "outputId": "3523e734-6035-41b1-eecf-534dde1f0a30",
        "colab": {
          "base_uri": "https://localhost:8080/"
        }
      },
      "execution_count": 96,
      "outputs": [
        {
          "output_type": "stream",
          "name": "stdout",
          "text": [
            "\n",
            "Model Evaluation Results:\n",
            "Linear Regression - MAE: 0.00, MSE: 0.00, R²: 1.00\n",
            "Random Forest - MAE: 2.37, MSE: 8.28, R²: 1.00\n",
            "XGBoost - MAE: 3.36, MSE: 20.74, R²: 0.99\n"
          ]
        }
      ]
    },
    {
      "cell_type": "code",
      "source": [
        "# Compare Models and Identify the Best Model\n",
        "models = {\n",
        "    \"Linear Regression\": linear_reg_metrics,\n",
        "    \"Random Forest\": random_forest_metrics,\n",
        "    \"XGBoost\": xgboost_metrics\n",
        "}\n",
        "\n",
        "# Find the best model based on R² score\n",
        "best_model_name = max(models, key=lambda k: models[k][2])\n",
        "best_model = {\"name\": best_model_name, \"metrics\": models[best_model_name]}\n",
        "print(f\"\\nBest Model: {best_model['name']} with R² Score: {best_model['metrics'][2]:.2f}\")"
      ],
      "metadata": {
        "id": "HbsDWJ6UyvVT",
        "outputId": "7352b716-695b-46bf-fd30-06ff9c8da80d",
        "colab": {
          "base_uri": "https://localhost:8080/"
        }
      },
      "execution_count": 97,
      "outputs": [
        {
          "output_type": "stream",
          "name": "stdout",
          "text": [
            "\n",
            "Best Model: Linear Regression with R² Score: 1.00\n"
          ]
        }
      ]
    },
    {
      "cell_type": "code",
      "source": [
        "# Save Models\n",
        "# Save all models\n",
        "joblib.dump(linear_reg, '/content/linear_regression_model.pkl')\n",
        "joblib.dump(random_forest, '/content/random_forest_model.pkl')\n",
        "joblib.dump(xgboost, '/content/xgboost_model.pkl')\n",
        "\n",
        "# Save the best model separately\n",
        "joblib.dump(\n",
        "    linear_reg if best_model_name == \"Linear Regression\" else\n",
        "    random_forest if best_model_name == \"Random Forest\" else\n",
        "    xgboost,\n",
        "    '/content/best_model.pkl'\n",
        ")\n",
        "\n",
        "print(\"\\nAll models saved successfully!\")\n",
        "print(\"Best model saved as 'best_model.pkl'.\")"
      ],
      "metadata": {
        "id": "ds6Gy81DyxMT",
        "outputId": "b4f233c0-7fbb-4586-d793-5032cbeec35b",
        "colab": {
          "base_uri": "https://localhost:8080/"
        }
      },
      "execution_count": 98,
      "outputs": [
        {
          "output_type": "stream",
          "name": "stdout",
          "text": [
            "\n",
            "All models saved successfully!\n",
            "Best model saved as 'best_model.pkl'.\n"
          ]
        }
      ]
    },
    {
      "cell_type": "code",
      "source": [
        "import os\n",
        "import shutil\n",
        "from google.colab import files  # For downloading files in Google Colab\n",
        "\n",
        "# Create Folders for Data and Models\n",
        "data_folder = 'data_files'\n",
        "models_folder = 'model_files'\n",
        "\n",
        "# Create the folders if they don't exist\n",
        "os.makedirs(data_folder, exist_ok=True)\n",
        "os.makedirs(models_folder, exist_ok=True)\n",
        "\n",
        "# List of Files to Organize\n",
        "data_files = [\n",
        "    'customer_transactions_augmented.csv',\n",
        "    'final_customer_data_group17.csv',\n",
        "    'final_dataset_ready_group17.csv'\n",
        "]\n",
        "\n",
        "model_files = [\n",
        "    'linear_regression_model.pkl',\n",
        "    'random_forest_model.pkl',\n",
        "    'xgboost_model.pkl'\n",
        "]\n",
        "\n",
        "# Move Data Files to the Data Folder\n",
        "for file in data_files:\n",
        "    if os.path.exists(file):  # Check if the file exists\n",
        "        shutil.move(file, os.path.join(data_folder, file))\n",
        "        print(f\"Moved {file} to '{data_folder}' folder.\")\n",
        "    else:\n",
        "        print(f\"Warning: {file} not found.\")\n",
        "\n",
        "# Move Model Files to the Models Folder\n",
        "for file in model_files:\n",
        "    if os.path.exists(file):  # Check if the file exists\n",
        "        shutil.move(file, os.path.join(models_folder, file))\n",
        "        print(f\"Moved {file} to '{models_folder}' folder.\")\n",
        "    else:\n",
        "        print(f\"Warning: {file} not found.\")\n",
        "\n",
        "# Zip the Folders for Download\n",
        "shutil.make_archive(data_folder, 'zip', data_folder)  # Zip the data folder\n",
        "shutil.make_archive(models_folder, 'zip', models_folder)  # Zip the models folder\n",
        "\n",
        "print(f\"\\nZipped folders created: '{data_folder}.zip' and '{models_folder}.zip'.\")\n",
        "\n",
        "# Download the Zipped Folders\n",
        "files.download(f'{data_folder}.zip')  # Download the data folder zip\n",
        "files.download(f'{models_folder}.zip')  # Download the models folder zip\n",
        "\n",
        "print(\"\\nDownload links generated. Please check your downloads.\")"
      ],
      "metadata": {
        "id": "R6Ygviz61x7G",
        "outputId": "7d59094f-49ad-4e89-d6f5-d9a9f86d5cc3",
        "colab": {
          "base_uri": "https://localhost:8080/",
          "height": 196
        }
      },
      "execution_count": 100,
      "outputs": [
        {
          "output_type": "stream",
          "name": "stdout",
          "text": [
            "Warning: customer_transactions_augmented.csv not found.\n",
            "Warning: final_customer_data_group17.csv not found.\n",
            "Warning: final_dataset_ready_group17.csv not found.\n",
            "Warning: linear_regression_model.pkl not found.\n",
            "Warning: random_forest_model.pkl not found.\n",
            "Warning: xgboost_model.pkl not found.\n",
            "\n",
            "Zipped folders created: 'data_files.zip' and 'model_files.zip'.\n"
          ]
        },
        {
          "output_type": "display_data",
          "data": {
            "text/plain": [
              "<IPython.core.display.Javascript object>"
            ],
            "application/javascript": [
              "\n",
              "    async function download(id, filename, size) {\n",
              "      if (!google.colab.kernel.accessAllowed) {\n",
              "        return;\n",
              "      }\n",
              "      const div = document.createElement('div');\n",
              "      const label = document.createElement('label');\n",
              "      label.textContent = `Downloading \"${filename}\": `;\n",
              "      div.appendChild(label);\n",
              "      const progress = document.createElement('progress');\n",
              "      progress.max = size;\n",
              "      div.appendChild(progress);\n",
              "      document.body.appendChild(div);\n",
              "\n",
              "      const buffers = [];\n",
              "      let downloaded = 0;\n",
              "\n",
              "      const channel = await google.colab.kernel.comms.open(id);\n",
              "      // Send a message to notify the kernel that we're ready.\n",
              "      channel.send({})\n",
              "\n",
              "      for await (const message of channel.messages) {\n",
              "        // Send a message to notify the kernel that we're ready.\n",
              "        channel.send({})\n",
              "        if (message.buffers) {\n",
              "          for (const buffer of message.buffers) {\n",
              "            buffers.push(buffer);\n",
              "            downloaded += buffer.byteLength;\n",
              "            progress.value = downloaded;\n",
              "          }\n",
              "        }\n",
              "      }\n",
              "      const blob = new Blob(buffers, {type: 'application/binary'});\n",
              "      const a = document.createElement('a');\n",
              "      a.href = window.URL.createObjectURL(blob);\n",
              "      a.download = filename;\n",
              "      div.appendChild(a);\n",
              "      a.click();\n",
              "      div.remove();\n",
              "    }\n",
              "  "
            ]
          },
          "metadata": {}
        },
        {
          "output_type": "display_data",
          "data": {
            "text/plain": [
              "<IPython.core.display.Javascript object>"
            ],
            "application/javascript": [
              "download(\"download_9a619c13-d93e-403b-a0e7-43e514ec01c3\", \"data_files.zip\", 4904)"
            ]
          },
          "metadata": {}
        },
        {
          "output_type": "display_data",
          "data": {
            "text/plain": [
              "<IPython.core.display.Javascript object>"
            ],
            "application/javascript": [
              "\n",
              "    async function download(id, filename, size) {\n",
              "      if (!google.colab.kernel.accessAllowed) {\n",
              "        return;\n",
              "      }\n",
              "      const div = document.createElement('div');\n",
              "      const label = document.createElement('label');\n",
              "      label.textContent = `Downloading \"${filename}\": `;\n",
              "      div.appendChild(label);\n",
              "      const progress = document.createElement('progress');\n",
              "      progress.max = size;\n",
              "      div.appendChild(progress);\n",
              "      document.body.appendChild(div);\n",
              "\n",
              "      const buffers = [];\n",
              "      let downloaded = 0;\n",
              "\n",
              "      const channel = await google.colab.kernel.comms.open(id);\n",
              "      // Send a message to notify the kernel that we're ready.\n",
              "      channel.send({})\n",
              "\n",
              "      for await (const message of channel.messages) {\n",
              "        // Send a message to notify the kernel that we're ready.\n",
              "        channel.send({})\n",
              "        if (message.buffers) {\n",
              "          for (const buffer of message.buffers) {\n",
              "            buffers.push(buffer);\n",
              "            downloaded += buffer.byteLength;\n",
              "            progress.value = downloaded;\n",
              "          }\n",
              "        }\n",
              "      }\n",
              "      const blob = new Blob(buffers, {type: 'application/binary'});\n",
              "      const a = document.createElement('a');\n",
              "      a.href = window.URL.createObjectURL(blob);\n",
              "      a.download = filename;\n",
              "      div.appendChild(a);\n",
              "      a.click();\n",
              "      div.remove();\n",
              "    }\n",
              "  "
            ]
          },
          "metadata": {}
        },
        {
          "output_type": "display_data",
          "data": {
            "text/plain": [
              "<IPython.core.display.Javascript object>"
            ],
            "application/javascript": [
              "download(\"download_4118a471-7df1-43c2-9b65-123bfb84f137\", \"model_files.zip\", 112394)"
            ]
          },
          "metadata": {}
        },
        {
          "output_type": "stream",
          "name": "stdout",
          "text": [
            "\n",
            "Download links generated. Please check your downloads.\n"
          ]
        }
      ]
    }
  ]
}